{
  "nbformat": 4,
  "nbformat_minor": 0,
  "metadata": {
    "colab": {
      "provenance": [],
      "gpuType": "T4"
    },
    "kernelspec": {
      "name": "python3",
      "display_name": "Python 3"
    },
    "language_info": {
      "name": "python"
    },
    "accelerator": "GPU"
  },
  "cells": [
    {
      "cell_type": "markdown",
      "source": [
        "## Imports"
      ],
      "metadata": {
        "id": "Pjd_9ID40Dm-"
      }
    },
    {
      "cell_type": "code",
      "source": [
        "import numpy as np\n",
        "import matplotlib.pyplot as plt\n",
        "import matplotlib.animation as animation\n",
        "from matplotlib.gridspec import GridSpec\n",
        "from matplotlib.patches import Circle\n",
        "from matplotlib.colors import Normalize"
      ],
      "metadata": {
        "id": "qt6-pF2ey0ho"
      },
      "execution_count": 1,
      "outputs": []
    },
    {
      "cell_type": "markdown",
      "source": [
        "## Generate synthetic data\n"
      ],
      "metadata": {
        "id": "WTAnTMS5y51A"
      }
    },
    {
      "cell_type": "code",
      "source": [
        "np.random.seed(0)\n",
        "X = np.linspace(-1, 1, 100).reshape(-1, 1)\n",
        "y = X**2 + np.random.normal(0, 0.1, X.shape)\n",
        "print(\"X shape:\", X.shape)\n",
        "print(\"y shape:\", y.shape)\n",
        "print(X[:5])\n",
        "print(y[:5])"
      ],
      "metadata": {
        "colab": {
          "base_uri": "https://localhost:8080/"
        },
        "id": "Q3BC6kHDy28E",
        "outputId": "54563eb2-29d1-4fb7-9e47-0161427b360e"
      },
      "execution_count": 2,
      "outputs": [
        {
          "output_type": "stream",
          "name": "stdout",
          "text": [
            "X shape: (100, 1)\n",
            "y shape: (100, 1)\n",
            "[[-1.        ]\n",
            " [-0.97979798]\n",
            " [-0.95959596]\n",
            " [-0.93939394]\n",
            " [-0.91919192]]\n",
            "[[1.17640523]\n",
            " [1.0000198 ]\n",
            " [1.0186982 ]\n",
            " [1.10655029]\n",
            " [1.03166958]]\n"
          ]
        }
      ]
    },
    {
      "cell_type": "markdown",
      "source": [
        "## Initialize weights and biases\n"
      ],
      "metadata": {
        "id": "x1tSSHTCy9R6"
      }
    },
    {
      "cell_type": "code",
      "source": [
        "w1 = np.random.randn(1, 10) * 0.5\n",
        "b1 = np.zeros((1, 10))\n",
        "w2 = np.random.randn(10, 1) * 0.5\n",
        "b2 = np.zeros((1, 1))\n",
        "\n",
        "print(\"w1: \",w1,\"\\n\")\n",
        "print(\"b1: \",b1,\"\\n\")\n",
        "print(\"w2: \",w2,\"\\n\")\n",
        "print(\"b2: \",b2,\"\\n\")"
      ],
      "metadata": {
        "colab": {
          "base_uri": "https://localhost:8080/"
        },
        "id": "Ae45f4aqy-bA",
        "outputId": "c77e1ec3-923e-43cd-e0d3-3bdb8b4012f6"
      },
      "execution_count": 3,
      "outputs": [
        {
          "output_type": "stream",
          "name": "stdout",
          "text": [
            "w1:  [[ 0.94157535 -0.67387953 -0.6352425   0.48469835 -0.5865617   0.97181059\n",
            "  -0.20680949 -0.37372741  0.96147101  0.7402574 ]] \n",
            "\n",
            "b1:  [[0. 0. 0. 0. 0. 0. 0. 0. 0. 0.]] \n",
            "\n",
            "w2:  [[ 0.93377948]\n",
            " [ 0.45302233]\n",
            " [-0.43061284]\n",
            " [ 0.95503248]\n",
            " [-0.13400169]\n",
            " [ 0.4012282 ]\n",
            " [ 0.47362598]\n",
            " [-0.07750505]\n",
            " [ 0.30703969]\n",
            " [ 0.46110334]] \n",
            "\n",
            "b2:  [[0.]] \n",
            "\n"
          ]
        }
      ]
    },
    {
      "cell_type": "markdown",
      "source": [
        "## Define Variables"
      ],
      "metadata": {
        "id": "Dgnu3M6pzCJ8"
      }
    },
    {
      "cell_type": "code",
      "source": [
        "learning_rate = 0.1\n",
        "display_interval = 5\n",
        "history = []\n",
        "loss_history = []\n",
        "grad_history = []"
      ],
      "metadata": {
        "id": "AERZZ7W4zBZj"
      },
      "execution_count": 4,
      "outputs": []
    },
    {
      "cell_type": "markdown",
      "source": [
        "## Activation function (ReLU)\n"
      ],
      "metadata": {
        "id": "6v545d8dzGZ9"
      }
    },
    {
      "cell_type": "code",
      "source": [
        "def relu(x):\n",
        "    return np.maximum(0, x)\n",
        "\n",
        "def relu_derivative(x):\n",
        "    return (x > 0).astype(float)"
      ],
      "metadata": {
        "id": "JkRAOscazFjE"
      },
      "execution_count": 5,
      "outputs": []
    },
    {
      "cell_type": "markdown",
      "source": [
        "## Training loop\n"
      ],
      "metadata": {
        "id": "OZpqUVgFzJp5"
      }
    },
    {
      "cell_type": "code",
      "source": [
        "for epoch in range(101):\n",
        "    # Forward pass\n",
        "    z1 = X @ w1 + b1\n",
        "    a1 = relu(z1)\n",
        "    z2 = a1 @ w2 + b2\n",
        "    y_pred = z2\n",
        "\n",
        "    # Compute loss (MSE)\n",
        "    loss = np.mean((y_pred - y) ** 2)\n",
        "    loss_history.append(loss)\n",
        "\n",
        "    # Backpropagation\n",
        "    dloss = 2 * (y_pred - y) / y.shape[0]\n",
        "    dw2 = a1.T @ dloss\n",
        "    db2 = np.sum(dloss, axis=0, keepdims=True)\n",
        "    da1 = dloss @ w2.T\n",
        "    dz1 = da1 * relu_derivative(z1)\n",
        "    dw1 = X.T @ dz1\n",
        "    db1 = np.sum(dz1, axis=0, keepdims=True)\n",
        "\n",
        "    if epoch % display_interval == 0:\n",
        "        grad_history.append((dw1.copy(), db1.copy(), dw2.copy(), db2.copy()))\n",
        "\n",
        "    # Update weights\n",
        "    w1 -= learning_rate * dw1\n",
        "    b1 -= learning_rate * db1\n",
        "    w2 -= learning_rate * dw2\n",
        "    b2 -= learning_rate * db2\n",
        "\n",
        "    if epoch % display_interval == 0:\n",
        "        history.append((w1.copy(), b1.copy(), w2.copy(), b2.copy(), loss))\n"
      ],
      "metadata": {
        "id": "9yElSEtzzSpp"
      },
      "execution_count": 6,
      "outputs": []
    },
    {
      "cell_type": "markdown",
      "source": [
        "## Set Up the Figure"
      ],
      "metadata": {
        "id": "GAaIeC6QzTcb"
      }
    },
    {
      "cell_type": "code",
      "source": [
        "fig = plt.figure(figsize=(22, 15))\n",
        "gs = GridSpec(3, 3, figure=fig)"
      ],
      "metadata": {
        "colab": {
          "base_uri": "https://localhost:8080/",
          "height": 35
        },
        "id": "BqhZwksZzY7N",
        "outputId": "ca8d5d69-651f-4144-9398-2b4ac8bd47fb"
      },
      "execution_count": 7,
      "outputs": [
        {
          "output_type": "display_data",
          "data": {
            "text/plain": [
              "<Figure size 2200x1500 with 0 Axes>"
            ]
          },
          "metadata": {}
        }
      ]
    },
    {
      "cell_type": "markdown",
      "source": [
        "## Subplots\n"
      ],
      "metadata": {
        "id": "xHZCYmrfzdvU"
      }
    },
    {
      "cell_type": "code",
      "source": [
        "ax_data = fig.add_subplot(gs[0:2, 0])\n",
        "ax_loss = fig.add_subplot(gs[2, 0])\n",
        "ax_net = fig.add_subplot(gs[0:2, 1])\n",
        "ax_w1 = fig.add_subplot(gs[0, 2])\n",
        "ax_w2 = fig.add_subplot(gs[1, 2])\n",
        "ax_b = fig.add_subplot(gs[2, 1])\n",
        "ax_grad = fig.add_subplot(gs[2, 2])\n"
      ],
      "metadata": {
        "id": "PM5d1iZNzg4P"
      },
      "execution_count": 8,
      "outputs": []
    },
    {
      "cell_type": "markdown",
      "source": [
        "## Color scheme explanation\n"
      ],
      "metadata": {
        "id": "S3xiXHu9zjjV"
      }
    },
    {
      "cell_type": "code",
      "source": [
        "color_info = \"\"\"\n",
        "Color Coding:\n",
        "- Forward Connections:\n",
        "  Blue (Negative weights) to Red (Positive weights)\n",
        "- Backward Flow: Purple dotted lines\n",
        "- Neurons:\n",
        "  Skyblue (Input), Lightgreen (Hidden), Salmon (Output)\n",
        "- Weight Values:\n",
        "  Black text (Hidden), White text (Output)\n",
        "\"\"\"\n",
        "fig.text(0.80, 0.01, color_info, fontsize=10, bbox=dict(facecolor='white', alpha=0.7))"
      ],
      "metadata": {
        "colab": {
          "base_uri": "https://localhost:8080/"
        },
        "id": "zrQjyZErzkkB",
        "outputId": "f799aeb9-ef61-462d-c233-96a7a21ee15a"
      },
      "execution_count": 9,
      "outputs": [
        {
          "output_type": "execute_result",
          "data": {
            "text/plain": [
              "Text(0.8, 0.01, '\\nColor Coding:\\n- Forward Connections:\\n  Blue (Negative weights) to Red (Positive weights)\\n- Backward Flow: Purple dotted lines\\n- Neurons:\\n  Skyblue (Input), Lightgreen (Hidden), Salmon (Output)\\n- Weight Values:\\n  Black text (Hidden), White text (Output)\\n')"
            ]
          },
          "metadata": {},
          "execution_count": 9
        }
      ]
    },
    {
      "cell_type": "markdown",
      "source": [
        "## Color normalization for weights\n"
      ],
      "metadata": {
        "id": "ziAl1pHyzrfW"
      }
    },
    {
      "cell_type": "code",
      "source": [
        "w_min = min(np.min(w1), np.min(w2))\n",
        "w_max = max(np.max(w1), np.max(w2))\n",
        "norm = Normalize(vmin=w_min, vmax=w_max)\n"
      ],
      "metadata": {
        "id": "tF7OD0ZIzqHH"
      },
      "execution_count": 10,
      "outputs": []
    },
    {
      "cell_type": "markdown",
      "source": [
        "## Update function"
      ],
      "metadata": {
        "id": "klkZsC1wz0La"
      }
    },
    {
      "cell_type": "code",
      "source": [
        "def update(frame):\n",
        "    for ax in [ax_data, ax_loss, ax_net, ax_w1, ax_w2, ax_b, ax_grad]:\n",
        "        ax.clear()\n",
        "\n",
        "    w1, b1, w2, b2, loss = history[frame]\n",
        "    dw1, db1, dw2, db2 = grad_history[frame]\n",
        "    epoch = frame * display_interval\n",
        "\n",
        "    # 1. Data and prediction plot\n",
        "    ax_data.scatter(X, y, color='blue', alpha=0.3, label='True Data')\n",
        "    y_pred = relu(X @ w1 + b1) @ w2 + b2\n",
        "    ax_data.plot(X, y_pred, color='red', linewidth=2, label='Prediction')\n",
        "    ax_data.set_title(f'Data Fit (Epoch {epoch})\\nLoss: {loss:.4f}', fontsize=12)\n",
        "    ax_data.legend()\n",
        "    ax_data.grid(True)\n",
        "\n",
        "    # 2. Loss curve\n",
        "    ax_loss.plot(loss_history[:epoch+1], 'b-', label='Loss')\n",
        "    ax_loss.scatter(epoch, loss, color='red', s=50)\n",
        "    ax_loss.set_title('Training Loss', fontsize=12)\n",
        "    ax_loss.set_xlabel('Epoch')\n",
        "    ax_loss.grid(True)\n",
        "    ax_loss.set_xlim(0, 100)\n",
        "    ax_loss.set_ylim(0, max(loss_history)*1.1)\n",
        "\n",
        "    # 3. Network architecture\n",
        "    ax_net.set_title(f'Network Architecture (Epoch {epoch})', fontsize=12)\n",
        "    ax_net.set_xlim(-2.5, 2.5)\n",
        "    ax_net.set_ylim(-1, 11)\n",
        "    ax_net.axis('off')\n",
        "\n",
        "    layer_spacing = 1.5\n",
        "\n",
        "    # Input layer with weight values\n",
        "    input_circle = Circle((-layer_spacing, 5), 0.4, color='skyblue', alpha=0.8)\n",
        "    ax_net.add_patch(input_circle)\n",
        "    ax_net.text(-layer_spacing, 5, 'Input\\n(x)', ha='center', va='center')\n",
        "\n",
        "    # Hidden layer with weights inside\n",
        "    for i in range(10):\n",
        "        hidden_circle = Circle((0, i), 0.4, color='lightgreen', alpha=0.8)\n",
        "        ax_net.add_patch(hidden_circle)\n",
        "\n",
        "        # Display weights inside hidden neurons\n",
        "        ax_net.text(0, i, f'h{i+1}\\nw2={w2[i,0]:.2f}\\nb={b1[0,i]:.2f}',\n",
        "                   ha='center', va='center', fontsize=9,\n",
        "                   bbox=dict(facecolor='white', alpha=0.7, boxstyle='round'))\n",
        "\n",
        "        # Forward connections with weight values\n",
        "        weight = w1[0, i]\n",
        "        color = plt.cm.coolwarm(norm(weight))\n",
        "        ax_net.plot([-layer_spacing+0.4, -0.4], [5, i],\n",
        "                   color=color, linewidth=abs(weight)*5)\n",
        "        ax_net.text((-layer_spacing)/2, (5+i)/2, f'{weight:.2f}',\n",
        "                   ha='center', va='center', fontsize=8,\n",
        "                   bbox=dict(facecolor='white', alpha=0.7))\n",
        "\n",
        "    # Output layer with weights\n",
        "    output_circle = Circle((layer_spacing, 5), 0.4, color='salmon', alpha=0.8)\n",
        "    ax_net.add_patch(output_circle)\n",
        "    ax_net.text(layer_spacing, 5, f'Output\\n(ŷ)\\nb={b2[0,0]:.2f}',\n",
        "               ha='center', va='center',\n",
        "               bbox=dict(facecolor='white', alpha=0.7, boxstyle='round'))\n",
        "\n",
        "    # Forward connections (hidden to output) with weight signs\n",
        "    for i in range(10):\n",
        "        weight = w2[i, 0]\n",
        "        color = plt.cm.coolwarm(norm(weight))\n",
        "        ax_net.plot([0.4, layer_spacing-0.4], [i, 5],\n",
        "                   color=color, linewidth=abs(weight)*5)\n",
        "\n",
        "        # Add weight sign indicators\n",
        "        weight_sign = '+' if weight > 0 else '-'\n",
        "        ax_net.text(layer_spacing/2, (5+i)/2, weight_sign,\n",
        "                   ha='center', va='center', fontsize=12,\n",
        "                   color='white' if weight > 0 else 'black',\n",
        "                   bbox=dict(facecolor=color, alpha=0.7, boxstyle='circle'))\n",
        "\n",
        "    # Backpropagation flow\n",
        "    for i in range(10):\n",
        "        ax_net.plot([layer_spacing-0.4, 0.4], [5, i],\n",
        "                   color='purple', linestyle=':', alpha=0.7, linewidth=1.5)\n",
        "        ax_net.text(layer_spacing/2+0.2, (5+i)/2, f'∂h{i+1}',\n",
        "                   ha='center', va='center', color='purple', fontsize=9)\n",
        "\n",
        "    # 4. Enhanced Weight matrices with values\n",
        "    # W1 weights with values\n",
        "    im1 = ax_w1.imshow(w1.T, cmap='coolwarm', aspect='auto', norm=norm)\n",
        "    ax_w1.set_title('Input → Hidden Weights', fontsize=12)\n",
        "    ax_w1.set_ylabel('Hidden Units')\n",
        "    ax_w1.set_xticks([])\n",
        "\n",
        "    # Add weight values to cells\n",
        "    for i in range(10):\n",
        "        ax_w1.text(0, i, f'{w1[0,i]:.2f}',\n",
        "                  ha='center', va='center',\n",
        "                  color='white' if abs(w1[0,i]) > (w_max-w_min)/2 else 'black')\n",
        "\n",
        "    # W2 weights with positive/negative indicators\n",
        "    im2 = ax_w2.imshow(w2, cmap='coolwarm', aspect='auto', norm=norm)\n",
        "    ax_w2.set_title('Hidden → Output Weights', fontsize=12)\n",
        "    ax_w2.set_xlabel('Output Unit')\n",
        "    ax_w2.set_ylabel('Hidden Units')\n",
        "\n",
        "    # Add weight values with sign indicators\n",
        "    for i in range(10):\n",
        "        weight = w2[i,0]\n",
        "        ax_w2.text(0, i, f'{\"+\" if weight>0 else \"\"}{weight:.2f}',\n",
        "                  ha='center', va='center',\n",
        "                  color='white' if abs(weight) > (w_max-w_min)/2 else 'black')\n",
        "\n",
        "    # 5. Biases with color coding\n",
        "    colors = ['green' if b < 0 else 'red' for b in b1[0]]\n",
        "    ax_b.bar(np.arange(10)-0.2, b1[0], width=0.4, label='Hidden Biases', color=colors)\n",
        "    ax_b.bar(10.8, b2[0,0], width=0.4,\n",
        "            label='Output Bias',\n",
        "            color='green' if b2[0,0] < 0 else 'red')\n",
        "    ax_b.set_title('Bias Values', fontsize=12)\n",
        "    ax_b.set_xticks(np.arange(11))\n",
        "    ax_b.set_xticklabels([f'h{i+1}' for i in range(10)] + ['out'])\n",
        "    ax_b.legend()\n",
        "    ax_b.grid(True)\n",
        "\n",
        "    # 6. Gradients with magnitude indicators\n",
        "    grad_values = np.concatenate([dw1.flatten(), [dw2.mean()]])\n",
        "    colors = ['blue' if g < 0 else 'red' for g in grad_values]\n",
        "    ax_grad.bar(np.arange(11), grad_values, color=colors)\n",
        "    ax_grad.set_title('Weight Gradients', fontsize=12)\n",
        "    ax_grad.set_xticks(np.arange(11))\n",
        "    ax_grad.set_xticklabels([f'w1_{i+1}' for i in range(10)] + ['w2_avg'])\n",
        "    ax_grad.grid(True)\n",
        "\n",
        "    # Add gradient values\n",
        "    for i, val in enumerate(grad_values):\n",
        "        ax_grad.text(i, val/2, f'{val:.2f}',\n",
        "                    ha='center', va='center',\n",
        "                    color='white' if abs(val) > max(abs(grad_values))/2 else 'black')\n",
        "\n",
        "    plt.tight_layout()"
      ],
      "metadata": {
        "id": "PqJ_b4hoz2Vt"
      },
      "execution_count": 11,
      "outputs": []
    },
    {
      "cell_type": "markdown",
      "source": [
        "## Create and save animation\n"
      ],
      "metadata": {
        "id": "zq8kEFDrz6Xr"
      }
    },
    {
      "cell_type": "code",
      "source": [
        "ani = animation.FuncAnimation(fig, update, frames=len(history), interval=500)\n",
        "ani.save('NN_vis.gif', writer='pillow', dpi=120, fps=2)\n",
        "plt.draw()\n",
        "plt.show()"
      ],
      "metadata": {
        "colab": {
          "base_uri": "https://localhost:8080/",
          "height": 35
        },
        "id": "paKBO2bSz8D9",
        "outputId": "a36eb696-88f1-4903-d905-75c3d2846f5d"
      },
      "execution_count": 12,
      "outputs": [
        {
          "output_type": "display_data",
          "data": {
            "text/plain": [
              "<Figure size 640x480 with 0 Axes>"
            ]
          },
          "metadata": {}
        }
      ]
    }
  ]
}